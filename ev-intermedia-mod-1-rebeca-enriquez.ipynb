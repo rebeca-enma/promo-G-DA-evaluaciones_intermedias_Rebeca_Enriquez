{
 "cells": [
  {
   "cell_type": "markdown",
   "metadata": {},
   "source": [
    "# STRINGS"
   ]
  },
  {
   "cell_type": "markdown",
   "metadata": {},
   "source": [
    "1 Dada una cadena de texto, contar cuántas veces aparece una letra específica en ella. Usa un input para que el usuario elija la letra a buscar."
   ]
  },
  {
   "cell_type": "code",
   "execution_count": 56,
   "metadata": {},
   "outputs": [
    {
     "name": "stdout",
     "output_type": "stream",
     "text": [
      "la letra e aparece en la cadena 4 veces\n"
     ]
    }
   ],
   "source": [
    "cadena = \"Python es un lenguaje de programación muy popular\"\n",
    "letra= \"P\"\n",
    "#convertimos toda la cadena en mayusculas para pasar la letra en mayusculas y que no haya errores\n",
    "mayus = cadena.lower()\n",
    "cuenta= mayus.count(letra.lower())\n",
    "\n",
    "\n",
    "print(f\"la letra e aparece en la cadena {cuenta} veces\")"
   ]
  },
  {
   "cell_type": "markdown",
   "metadata": {},
   "source": [
    "2 Escribe un programa que tome la siguiente cadena de texto y reemplace una palabra específica por otra palabra. La palabra a reemplazar y reemplazada deben ser elegidas por el usuario."
   ]
  },
  {
   "cell_type": "code",
   "execution_count": 2,
   "metadata": {},
   "outputs": [
    {
     "data": {
      "text/plain": [
       "'Esto es una oración de prueba'"
      ]
     },
     "execution_count": 2,
     "metadata": {},
     "output_type": "execute_result"
    }
   ],
   "source": [
    "oracion = \"Esto es una oración de ejemplo\"\n",
    "oracion.replace(\"ejemplo\",\"prueba\")"
   ]
  },
  {
   "cell_type": "markdown",
   "metadata": {},
   "source": [
    "3 Toma la siguiente oración y divídela en una lista de palabras. Luego, únelas nuevamente en una sola cadena de texto."
   ]
  },
  {
   "cell_type": "code",
   "execution_count": 3,
   "metadata": {},
   "outputs": [
    {
     "name": "stdout",
     "output_type": "stream",
     "text": [
      "['Esta', 'es', 'una', 'cadena', 'con', 'cinco', 'palabras']\n",
      "Esta es una cadena con cinco palabras\n"
     ]
    }
   ],
   "source": [
    "cadena = \"Esta es una cadena con cinco palabras\"\n",
    "lista = cadena.split()\n",
    "print(lista)\n",
    "\n",
    "nueva_cadena = \" \".join(lista)\n",
    "print(nueva_cadena)"
   ]
  },
  {
   "cell_type": "markdown",
   "metadata": {},
   "source": [
    "4 Desarrolla un programa que cuente cuántas palabras hay en la siguiente frase."
   ]
  },
  {
   "cell_type": "code",
   "execution_count": 4,
   "metadata": {},
   "outputs": [
    {
     "name": "stdout",
     "output_type": "stream",
     "text": [
      "la frase dada tiene 7 palabras\n"
     ]
    }
   ],
   "source": [
    "cadena = \"Esta es una cadena con cinco palabras\"\n",
    "\n",
    "\n",
    "print(\"la frase dada tiene\", len(cadena.split()), \"palabras\")"
   ]
  },
  {
   "cell_type": "markdown",
   "metadata": {},
   "source": [
    "5 Escribe un programa que invierta una cadena de texto dada por un usuario. Mira el siguiente ejemplo para entender lo que se pide:"
   ]
  },
  {
   "cell_type": "code",
   "execution_count": 60,
   "metadata": {},
   "outputs": [
    {
     "name": "stdout",
     "output_type": "stream",
     "text": [
      "la frase original es Estamos haciendo nuestra primera prueba y la frase invertida es: prueba primera nuestra haciendo Estamos\n"
     ]
    }
   ],
   "source": [
    "cadena = input(\"Introduce una frase\")\n",
    "lista_cadena = list(cadena.split())\n",
    "\n",
    "lista_cadena.reverse()\n",
    "inversa = \" \".join(lista_cadena)\n",
    "\n",
    "print(f\"la frase original es {cadena} y la frase invertida es: {inversa}\" )\n",
    "\n"
   ]
  },
  {
   "cell_type": "markdown",
   "metadata": {},
   "source": [
    "6 Crea un programa que busque una palabra específica(elegida por la usuaria) en una cadena de texto e indique su posición"
   ]
  },
  {
   "cell_type": "code",
   "execution_count": 61,
   "metadata": {},
   "outputs": [
    {
     "name": "stdout",
     "output_type": "stream",
     "text": [
      "['Crea', 'un', 'programa', 'que', 'busque', 'una', 'palabra', 'específica', 'y', 'devuelva', 'su', 'posicion']\n",
      "la posicion de palabra esta en el numero  12\n"
     ]
    }
   ],
   "source": [
    "frase = \"Crea un programa que busque una palabra específica y devuelva su posicion\"\n",
    "frase_lista = list(frase.split())\n",
    "print(frase_lista)\n",
    "palabra_especifica = input(\"Que palabra quieres buscar\")\n",
    "\n",
    "print(\"la posicion de palabra esta en el numero \", frase_lista.index(palabra_especifica)+1)\n",
    "\n",
    "#Mejorar ejercicio PROGRAMACION DEFENSIVA para evitar errores."
   ]
  },
  {
   "cell_type": "markdown",
   "metadata": {},
   "source": [
    "# Listas"
   ]
  },
  {
   "cell_type": "markdown",
   "metadata": {},
   "source": [
    "1 Dada la siguiente lista: frutas = ['manzana', 'pera', 'banana', 'uva', 'kiwi'], realiza lo siguiente:\n",
    "a) Reemplaza el segundo elemento con 'durazno'.\n",
    "b) Agrega 'naranja' al final de la lista.\n",
    "c) Extrae y muestra por pantalla el tercer elemento de la lista.\n"
   ]
  },
  {
   "cell_type": "code",
   "execution_count": 7,
   "metadata": {},
   "outputs": [
    {
     "name": "stdout",
     "output_type": "stream",
     "text": [
      "['manzana', 'durazno', 'banana', 'uva', 'kiwi', 'naranja']\n",
      "banana\n"
     ]
    }
   ],
   "source": [
    "frutas = ['manzana', 'pera', 'banana', 'uva', 'kiwi']\n",
    "\n",
    "frutas[1]=\"durazno\"\n",
    "frutas.append(\"naranja\")\n",
    "\n",
    "print(frutas)\n",
    "\n",
    "print(frutas.pop(2))"
   ]
  },
  {
   "cell_type": "markdown",
   "metadata": {},
   "source": [
    "2 Crea una lista llamada numeros que contenga los siguientes valores: 10, 25, 15, 30, 20."
   ]
  },
  {
   "cell_type": "code",
   "execution_count": 8,
   "metadata": {},
   "outputs": [
    {
     "data": {
      "text/plain": [
       "list"
      ]
     },
     "execution_count": 8,
     "metadata": {},
     "output_type": "execute_result"
    }
   ],
   "source": [
    "numeros = [10, 25, 15, 30, 20]\n",
    "type(numeros)"
   ]
  },
  {
   "cell_type": "markdown",
   "metadata": {},
   "source": [
    "3 Agrega el valor 35 al incio de la lista numeros."
   ]
  },
  {
   "cell_type": "code",
   "execution_count": 9,
   "metadata": {},
   "outputs": [
    {
     "name": "stdout",
     "output_type": "stream",
     "text": [
      "[35, 10, 25, 15, 30, 20]\n"
     ]
    }
   ],
   "source": [
    "numeros = [10, 25, 15, 30, 20]\n",
    "numeros.insert(0, 35)\n",
    "\n",
    "print(numeros)"
   ]
  },
  {
   "cell_type": "markdown",
   "metadata": {},
   "source": [
    "4. Ordena la lista numeros en orden ascendente."
   ]
  },
  {
   "cell_type": "code",
   "execution_count": 10,
   "metadata": {},
   "outputs": [
    {
     "name": "stdout",
     "output_type": "stream",
     "text": [
      "[10, 15, 20, 25, 30, 35]\n"
     ]
    }
   ],
   "source": [
    "numeros = [35, 10, 25, 15, 30, 20]\n",
    "\n",
    "numeros.sort()\n",
    "print(numeros)"
   ]
  },
  {
   "cell_type": "markdown",
   "metadata": {},
   "source": [
    "5. Dada la siguiente lista numeros2 = [45, 22, 19, 38, 29]. Crea una nueva lista llamada numeros3 donde tengamos la unión de los todos los elementos de las dos listas (numeros y numeros2) de tal forma que el resultado final sea:"
   ]
  },
  {
   "cell_type": "code",
   "execution_count": 11,
   "metadata": {},
   "outputs": [
    {
     "name": "stdout",
     "output_type": "stream",
     "text": [
      "[10, 25, 15, 30, 20, 45, 22, 19, 38, 29]\n"
     ]
    }
   ],
   "source": [
    "numeros = [10, 25, 15, 30, 20]\n",
    "numeros2 = [45, 22, 19, 38, 29]\n",
    "\n",
    "numeros3 = numeros + numeros2\n",
    "\n",
    "print(numeros3)\n"
   ]
  },
  {
   "cell_type": "markdown",
   "metadata": {},
   "source": [
    "6. Elimina el último elemento de la lista numeros3"
   ]
  },
  {
   "cell_type": "code",
   "execution_count": 12,
   "metadata": {},
   "outputs": [
    {
     "name": "stdout",
     "output_type": "stream",
     "text": [
      "[10, 25, 15, 30, 20, 45, 22, 19, 38]\n"
     ]
    }
   ],
   "source": [
    "numeros3 =[10, 25, 15, 30, 20, 45, 22, 19, 38, 29]\n",
    "#Pop elimina el ultimo elemento de la lista\n",
    "numeros3.pop()\n",
    "\n",
    "print(numeros3)"
   ]
  },
  {
   "cell_type": "markdown",
   "metadata": {},
   "source": [
    "7.Elimina el número 30 de la lista numeros3"
   ]
  },
  {
   "cell_type": "code",
   "execution_count": 13,
   "metadata": {},
   "outputs": [
    {
     "name": "stdout",
     "output_type": "stream",
     "text": [
      "[10, 25, 15, 20, 45, 22, 19, 38]\n"
     ]
    }
   ],
   "source": [
    "numeros3 =[10, 25, 15, 30, 20, 45, 22, 19, 38]\n",
    "#remove elimina el elemento que pasamos como argumento\n",
    "numeros3.remove(30)\n",
    "\n",
    "print(numeros3)"
   ]
  },
  {
   "cell_type": "markdown",
   "metadata": {},
   "source": [
    "# Tuplas\n"
   ]
  },
  {
   "cell_type": "markdown",
   "metadata": {},
   "source": [
    "1 Crea una tupla llamada colores que contenga los siguientes valores: 'rojo', 'verde', 'azul', 'amarillo', 'morado'"
   ]
  },
  {
   "cell_type": "code",
   "execution_count": 14,
   "metadata": {},
   "outputs": [
    {
     "data": {
      "text/plain": [
       "tuple"
      ]
     },
     "execution_count": 14,
     "metadata": {},
     "output_type": "execute_result"
    }
   ],
   "source": [
    "colores = ('rojo', 'verde', 'azul', 'amarillo', 'morado')\n",
    "type(colores)"
   ]
  },
  {
   "cell_type": "markdown",
   "metadata": {},
   "source": [
    "2 Encuentra el índice de 'verde' en la tupla colores"
   ]
  },
  {
   "cell_type": "code",
   "execution_count": 1,
   "metadata": {},
   "outputs": [
    {
     "name": "stdout",
     "output_type": "stream",
     "text": [
      "la lista colores tiene verde en el indice:! 1\n"
     ]
    }
   ],
   "source": [
    "colores = ('rojo', 'verde', 'azul', 'amarillo', 'morado')\n",
    "\n",
    "print(\"la lista colores tiene verde en el indice:\", colores.index(\"verde\"))"
   ]
  },
  {
   "cell_type": "markdown",
   "metadata": {},
   "source": [
    "3 ¿Cuántas veces aparece 'azul' en la tupla colores?"
   ]
  },
  {
   "cell_type": "code",
   "execution_count": 2,
   "metadata": {},
   "outputs": [
    {
     "name": "stdout",
     "output_type": "stream",
     "text": [
      "En la lista colores el color azul aparece: 1 veces\n"
     ]
    }
   ],
   "source": [
    "colores = ('rojo', 'verde', 'azul', 'amarillo', 'morado')\n",
    "\n",
    "print(\"En la lista colores el color azul aparece:\",colores.count(\"azul\"), \"veces\")"
   ]
  },
  {
   "cell_type": "markdown",
   "metadata": {},
   "source": [
    "4. Añade el color \"morado\" a la tupla colores. ¿Qué ha pasado? ¿Por qué? Como podríamos añadir el elemento \"morado\""
   ]
  },
  {
   "cell_type": "code",
   "execution_count": 17,
   "metadata": {},
   "outputs": [
    {
     "name": "stdout",
     "output_type": "stream",
     "text": [
      "('rojo', 'verde', 'azul', 'amarillo', 'morado', 'morado')\n"
     ]
    }
   ],
   "source": [
    "colores = ('rojo', 'verde', 'azul', 'amarillo', 'morado')\n",
    "\n",
    "# para poder añadir valores a la tupla debemos pasarlo a lista, hacer las modificaciones y volver a convertirlo en tupla\n",
    "\n",
    "colores_lista = list(colores)\n",
    "\n",
    "colores_lista.append(\"morado\")\n",
    "\n",
    "colores2 = tuple(colores_lista)\n",
    "\n",
    "print(colores2)"
   ]
  },
  {
   "cell_type": "markdown",
   "metadata": {},
   "source": [
    "# Diccionarios\n"
   ]
  },
  {
   "cell_type": "markdown",
   "metadata": {},
   "source": [
    "1 Crea un diccionario llamado frutas con las siguientes parejas clave-valor:\n",
    "'manzana': 2\n",
    "'banana': 3\n",
    "'uva': 5\n",
    "'pera': 4"
   ]
  },
  {
   "cell_type": "code",
   "execution_count": 16,
   "metadata": {},
   "outputs": [
    {
     "data": {
      "text/plain": [
       "dict"
      ]
     },
     "execution_count": 16,
     "metadata": {},
     "output_type": "execute_result"
    }
   ],
   "source": [
    "frutas = {\"manzana\":2 ,\"banana\":3 ,\"uva\":5 ,\"pera\":4}\n",
    "type(frutas)"
   ]
  },
  {
   "cell_type": "markdown",
   "metadata": {},
   "source": [
    "2 Saca una lista de todas las frutas en el diccionario."
   ]
  },
  {
   "cell_type": "code",
   "execution_count": 13,
   "metadata": {},
   "outputs": [
    {
     "name": "stdout",
     "output_type": "stream",
     "text": [
      "['manzana', 'banana', 'uva', 'pera']\n"
     ]
    }
   ],
   "source": [
    "lista_frutas = list(frutas.keys())\n",
    "print(lista_frutas)\n"
   ]
  },
  {
   "cell_type": "markdown",
   "metadata": {},
   "source": [
    "3 Saca una lista de todas las cantidades en el diccionario."
   ]
  },
  {
   "cell_type": "code",
   "execution_count": 18,
   "metadata": {},
   "outputs": [
    {
     "name": "stdout",
     "output_type": "stream",
     "text": [
      "[2, 3, 5, 4]\n"
     ]
    }
   ],
   "source": [
    "lista_cantidades = list(frutas.values())\n",
    "print(lista_cantidades)"
   ]
  },
  {
   "cell_type": "markdown",
   "metadata": {},
   "source": [
    "4 ¿Qué cantidad de 'manzana' tenemos?. Si la clave 'manzana' no está presente, devuelve un mensaje diciendo \"No existe esa clave\"."
   ]
  },
  {
   "cell_type": "code",
   "execution_count": 19,
   "metadata": {},
   "outputs": [
    {
     "name": "stdout",
     "output_type": "stream",
     "text": [
      "2\n",
      "no existe esa clave\n"
     ]
    }
   ],
   "source": [
    "frutas = {\"manzana\":2 ,\"banana\":3 ,\"uva\":5 ,\"pera\":4}\n",
    "\n",
    "#Utilizamos get porque default modifica el diccionario\n",
    "\n",
    "print(frutas.get(\"manzana\",\"no existe esa clave\"))\n",
    "print(frutas.get(\"mandarina\",\"no existe esa clave\"))"
   ]
  },
  {
   "cell_type": "markdown",
   "metadata": {},
   "source": [
    "5 Agrega un nuevo par de clave-valor al diccionario frutas: 'kiwi' con una cantidad de 6"
   ]
  },
  {
   "cell_type": "code",
   "execution_count": 22,
   "metadata": {},
   "outputs": [
    {
     "name": "stdout",
     "output_type": "stream",
     "text": [
      "{'manzana': 2, 'banana': 3, 'uva': 5, 'pera': 4, 'kiwi': 6}\n"
     ]
    }
   ],
   "source": [
    "frutas = {\"manzana\":2 ,\"banana\":3 ,\"uva\":5 ,\"pera\":4}\n",
    "anexo = {\"kiwi\":6}\n",
    "\n",
    "frutas.update(anexo)\n",
    "print(frutas)"
   ]
  },
  {
   "cell_type": "markdown",
   "metadata": {},
   "source": [
    "6 Cambia la cantidad de 'uva' a 8."
   ]
  },
  {
   "cell_type": "code",
   "execution_count": 23,
   "metadata": {},
   "outputs": [
    {
     "name": "stdout",
     "output_type": "stream",
     "text": [
      "{'manzana': 2, 'banana': 3, 'uva': 8, 'pera': 4, 'kiwi': 6}\n"
     ]
    }
   ],
   "source": [
    "frutas = {'manzana': 2, 'banana': 3, 'uva': 5, 'pera': 4, 'kiwi': 6}\n",
    "frutas[\"uva\"]=8\n",
    "print(frutas)"
   ]
  },
  {
   "cell_type": "markdown",
   "metadata": {},
   "source": [
    "7 Crea un segundo diccionario llamado frutas_nuevas con las siguientes parejas clave-valor:\n",
    "'sandía': 7\n",
    "'mango': 4"
   ]
  },
  {
   "cell_type": "code",
   "execution_count": 24,
   "metadata": {},
   "outputs": [],
   "source": [
    "frutas_nuevas = {'sandía': 7,'mango': 4}"
   ]
  },
  {
   "cell_type": "markdown",
   "metadata": {},
   "source": [
    "8 Combinar los dos diccionarios frutas_nuevas y frutas en uno nuevos llamado frutas_total."
   ]
  },
  {
   "cell_type": "code",
   "execution_count": 25,
   "metadata": {},
   "outputs": [
    {
     "name": "stdout",
     "output_type": "stream",
     "text": [
      "{'manzana': 2, 'banana': 3, 'uva': 8, 'pera': 4, 'kiwi': 6, 'sandía': 7, 'mango': 4}\n"
     ]
    }
   ],
   "source": [
    "frutas_nuevas = {'sandía': 7,'mango': 4}\n",
    "frutas = {'manzana': 2, 'banana': 3, 'uva': 8, 'pera': 4, 'kiwi': 6}\n",
    "\n",
    "#Creo una copia a uno de los diccionarios, ya que el metodo update sobreescribe, para poder conservar los diccionarios anteriores\n",
    "frutas_total = frutas.copy()\n",
    "\n",
    "#sobre la copia del diccionario actualizo y uno.\n",
    "frutas_total.update(frutas_nuevas)\n",
    "print(frutas_total)"
   ]
  },
  {
   "cell_type": "markdown",
   "metadata": {},
   "source": [
    "9 Elimina el último par de clave-valor del diccionario fruta_total\n"
   ]
  },
  {
   "cell_type": "code",
   "execution_count": 26,
   "metadata": {},
   "outputs": [
    {
     "name": "stdout",
     "output_type": "stream",
     "text": [
      "{'manzana': 2, 'banana': 3, 'uva': 8, 'pera': 4, 'kiwi': 6, 'sandía': 7}\n"
     ]
    }
   ],
   "source": [
    "frutas_total = {'manzana': 2, 'banana': 3, 'uva': 8, 'pera': 4, 'kiwi': 6, 'sandía': 7, 'mango': 4}\n",
    "\n",
    "frutas_total.popitem()\n",
    "\n",
    "print(frutas_total)"
   ]
  },
  {
   "cell_type": "markdown",
   "metadata": {},
   "source": [
    "10 Elimina el par de clave-valor correspondiente a la clave 'uva' del diccionario."
   ]
  },
  {
   "cell_type": "code",
   "execution_count": 27,
   "metadata": {},
   "outputs": [
    {
     "name": "stdout",
     "output_type": "stream",
     "text": [
      "{'manzana': 2, 'banana': 3, 'pera': 4, 'kiwi': 6, 'sandía': 7}\n"
     ]
    }
   ],
   "source": [
    "frutas_total = {'manzana': 2, 'banana': 3, 'uva': 8, 'pera': 4, 'kiwi': 6, 'sandía': 7}\n",
    "frutas_total.pop(\"uva\")\n",
    "print(frutas_total)"
   ]
  },
  {
   "cell_type": "markdown",
   "metadata": {},
   "source": [
    "11 Agregar la fruta 'manzana' con una cantidad de 10 al diccionario. Si ya existe, no se realizarán cambios en los valores que teníamos"
   ]
  },
  {
   "cell_type": "code",
   "execution_count": 28,
   "metadata": {},
   "outputs": [
    {
     "name": "stdout",
     "output_type": "stream",
     "text": [
      "{'manzana': 2, 'banana': 3, 'pera': 4, 'kiwi': 6, 'sandía': 7}\n"
     ]
    }
   ],
   "source": [
    "nueva_fruta = {\"manzana\":10}\n",
    "set_frutas = set(frutas_total.keys())\n",
    "set_fruta = set(nueva_fruta.keys())\n",
    "\n",
    "if set_fruta.issubset(set_frutas) == False:\n",
    "    frutas_total.update(nueva_fruta)\n",
    "print(frutas_total)\n"
   ]
  },
  {
   "cell_type": "markdown",
   "metadata": {},
   "source": [
    "12 Combinar métodos de listas y diccionarios:\n",
    "Obtén una lista de todas las cantidades en el diccionario y calcula suma total de las cantidades del diccionario frutas_total.\n",
    "Utilizando la lista creada en el apartado anterior encuentra la cantidad más grande y más pequeña."
   ]
  },
  {
   "cell_type": "code",
   "execution_count": 31,
   "metadata": {},
   "outputs": [
    {
     "name": "stdout",
     "output_type": "stream",
     "text": [
      "[2, 3, 4, 6, 7]\n",
      "la suma de las cantidades es:  22\n",
      "la cantidad mas grande es: 7\n",
      "la cantidad minima grande es: 2\n"
     ]
    }
   ],
   "source": [
    "cantidades = list(frutas_total.values())\n",
    "print(cantidades)\n",
    "print(\"la suma de las cantidades es: \", sum(cantidades))\n",
    "\n",
    "print(\"la cantidad mas grande es:\", max(cantidades))\n",
    "print(\"la cantidad minima grande es:\", min(cantidades))"
   ]
  },
  {
   "cell_type": "markdown",
   "metadata": {},
   "source": [
    "# Métodos de Sets\n"
   ]
  },
  {
   "cell_type": "markdown",
   "metadata": {},
   "source": [
    "1 Crea un set llamado conjunto1 con los números del 1 al 5.\n"
   ]
  },
  {
   "cell_type": "code",
   "execution_count": 33,
   "metadata": {},
   "outputs": [
    {
     "data": {
      "text/plain": [
       "set"
      ]
     },
     "execution_count": 33,
     "metadata": {},
     "output_type": "execute_result"
    }
   ],
   "source": [
    "conjunto1={1,2,3,4,5}\n",
    "type(conjunto1)"
   ]
  },
  {
   "cell_type": "markdown",
   "metadata": {},
   "source": [
    "2 Crea otro set llamado conjunto2 con los números del 4 al 8"
   ]
  },
  {
   "cell_type": "code",
   "execution_count": 34,
   "metadata": {},
   "outputs": [
    {
     "data": {
      "text/plain": [
       "set"
      ]
     },
     "execution_count": 34,
     "metadata": {},
     "output_type": "execute_result"
    }
   ],
   "source": [
    "conjunto2={4,5,6,7,8}\n",
    "type(conjunto2)"
   ]
  },
  {
   "cell_type": "markdown",
   "metadata": {},
   "source": [
    "3 Obtén la unión de conjunto1 y conjunto2."
   ]
  },
  {
   "cell_type": "code",
   "execution_count": 35,
   "metadata": {},
   "outputs": [
    {
     "name": "stdout",
     "output_type": "stream",
     "text": [
      "{1, 2, 3, 4, 5, 6, 7, 8}\n"
     ]
    }
   ],
   "source": [
    "union = conjunto1.union(conjunto2)\n",
    "print(union)"
   ]
  },
  {
   "cell_type": "markdown",
   "metadata": {},
   "source": [
    "4 Obtén la intersección de conjunto1 y conjunto2"
   ]
  },
  {
   "cell_type": "code",
   "execution_count": 36,
   "metadata": {},
   "outputs": [
    {
     "name": "stdout",
     "output_type": "stream",
     "text": [
      "{4, 5}\n"
     ]
    }
   ],
   "source": [
    "inter = conjunto1.intersection(conjunto2)\n",
    "print(inter)"
   ]
  },
  {
   "cell_type": "markdown",
   "metadata": {},
   "source": [
    "5 Obtén los elementos que están en conjunto1 pero no en el conjunto2"
   ]
  },
  {
   "cell_type": "code",
   "execution_count": 37,
   "metadata": {},
   "outputs": [
    {
     "name": "stdout",
     "output_type": "stream",
     "text": [
      "{1, 2, 3}\n"
     ]
    }
   ],
   "source": [
    "element1 = conjunto1.difference(conjunto2)\n",
    "print(element1)"
   ]
  },
  {
   "cell_type": "markdown",
   "metadata": {},
   "source": [
    "# 6: Sentencias de Control\n"
   ]
  },
  {
   "cell_type": "markdown",
   "metadata": {},
   "source": [
    "Ejercicio 1: Evaluación de Edades:\n",
    "Escribe un programa que solicite al usuario ingresar su edad.\n",
    "Si la edad es menor de 18, muestra \"Eres menor de edad\".\n",
    "Si la edad está entre 18 y 65 (incluyendo ambos extremos), muestra \"Eres adulto\".\n",
    "Si la edad es mayor que 65, muestra \"Eres un adulto mayor\"."
   ]
  },
  {
   "cell_type": "code",
   "execution_count": 39,
   "metadata": {},
   "outputs": [
    {
     "name": "stdout",
     "output_type": "stream",
     "text": [
      "Dato erroneo\n"
     ]
    }
   ],
   "source": [
    "edad = int(input(\"Cuantos años tienes?\"))\n",
    "\n",
    "if edad>=0 and edad <18:\n",
    "    print(\"Eres menor de edad\")\n",
    "elif edad >= 18 and edad <=65:\n",
    "    print(\"eres adulto\")\n",
    "elif edad > 65:\n",
    "    print(\"Eres un adulto mayor\")\n",
    "else:\n",
    "    print(\"Dato erroneo\")"
   ]
  },
  {
   "cell_type": "markdown",
   "metadata": {},
   "source": [
    "Ejercicio 2: Determinación de Día de la Semana\n",
    "Solicita al usuario que ingrese un número del 1 al 7.\n",
    "Utilizando una serie de if-elif-else, muestra el día de la semana"
   ]
  },
  {
   "cell_type": "code",
   "execution_count": 21,
   "metadata": {},
   "outputs": [
    {
     "name": "stdout",
     "output_type": "stream",
     "text": [
      "El numero introduccido corresponde con lunes\n"
     ]
    }
   ],
   "source": [
    "semana = {1:\"lunes\",2:\"martes\", 3:\"miercoles\", 4:\"jueves\", 5:\"viernes\", 6:\"sabado\", 7:\"domingo\"}\n",
    "\n",
    "pregunta = int(input(\"introducce un numero del 1 al 7 para saber a que dia de la semana esta asociado\"))\n",
    "\n",
    "if pregunta == 1:\n",
    "    print(\"El numero introduccido corresponde con\", semana[1])\n",
    "elif pregunta == 2:\n",
    "    print(\"El numero introduccido corresponde con\", semana[2])\n",
    "elif pregunta == 3:\n",
    "    print(\"El numero introduccido corresponde con\", semana[3])\n",
    "elif pregunta == 4:\n",
    "    print(\"El numero introduccido corresponde con\", semana[4])\n",
    "elif pregunta == 5:\n",
    "    print(\"El numero introduccido corresponde con\", semana[5])\n",
    "elif pregunta == 6:\n",
    "    print(\"El numero introduccido corresponde con\", semana[6])\n",
    "elif pregunta == 7:\n",
    "    print(\"El numero introduccido corresponde con\", semana[7])\n",
    "else:\n",
    "    print(\"El valor introduccido no es valido\")\n",
    "\n",
    "\n",
    "# De esta misma manera lo podriamos hacer con una lista, entrando a la posicion por el indice+1    \n"
   ]
  },
  {
   "cell_type": "markdown",
   "metadata": {},
   "source": [
    "Ejercicio 3: Juego de Adivinanza\n",
    "Genera un número aleatorio entre 1 y 100.\n",
    "Pídele al usuario que adivine el número.\n",
    "Si el usuario adivina correctamente en el primer intento, muestra \"¡Ganaste en el primer intento!\".\n",
    "Si el usuario no adivina en el primer intento, bríndale pistas (mayor o menor) y permite que intente nuevamente. Muestra cuántos intentos le llevó al final."
   ]
  },
  {
   "cell_type": "code",
   "execution_count": 20,
   "metadata": {},
   "outputs": [],
   "source": [
    "import random"
   ]
  },
  {
   "cell_type": "code",
   "execution_count": 25,
   "metadata": {},
   "outputs": [
    {
     "ename": "ValueError",
     "evalue": "invalid literal for int() with base 10: ''",
     "output_type": "error",
     "traceback": [
      "\u001b[1;31m---------------------------------------------------------------------------\u001b[0m",
      "\u001b[1;31mValueError\u001b[0m                                Traceback (most recent call last)",
      "Cell \u001b[1;32mIn[25], line 4\u001b[0m\n\u001b[0;32m      1\u001b[0m numero_aleatorio\u001b[38;5;241m=\u001b[39m random\u001b[38;5;241m.\u001b[39mrandint(\u001b[38;5;241m1\u001b[39m,\u001b[38;5;241m100\u001b[39m)\n\u001b[0;32m      2\u001b[0m intentos \u001b[38;5;241m=\u001b[39m \u001b[38;5;241m0\u001b[39m\n\u001b[1;32m----> 4\u001b[0m jugador\u001b[38;5;241m=\u001b[39m \u001b[38;5;28;43mint\u001b[39;49m\u001b[43m(\u001b[49m\u001b[38;5;28;43minput\u001b[39;49m\u001b[43m(\u001b[49m\u001b[38;5;124;43m\"\u001b[39;49m\u001b[38;5;124;43mAdivina el numero del 1 al 100\u001b[39;49m\u001b[38;5;124;43m\"\u001b[39;49m\u001b[43m)\u001b[49m\u001b[43m)\u001b[49m \n\u001b[0;32m      6\u001b[0m \u001b[38;5;28;01mwhile\u001b[39;00m numero_aleatorio \u001b[38;5;241m!=\u001b[39m jugador:\n\u001b[0;32m      8\u001b[0m     \u001b[38;5;28;01mif\u001b[39;00m intentos \u001b[38;5;241m<\u001b[39m\u001b[38;5;241m1\u001b[39m :\n",
      "\u001b[1;31mValueError\u001b[0m: invalid literal for int() with base 10: ''"
     ]
    }
   ],
   "source": [
    "numero_aleatorio= random.randint(1,100)\n",
    "intentos = 0\n",
    "\n",
    "jugador= int(input(\"Adivina el numero del 1 al 100\")) \n",
    "\n",
    "while numero_aleatorio != jugador:\n",
    "\n",
    "    if intentos <1 :\n",
    "        if jugador == numero_aleatorio:\n",
    "            print(\"GANATE EN EL PRImer INTENTO!!\")\n",
    "        else:\n",
    "            intentos += 1\n",
    "            print(f\"sigue intentandolo \\n llevas {intentos} intentos\")\n",
    "\n",
    "    else: \n",
    "        jugador= int(input(\"Otra oportunidad, introduce un nuevo numero\")) \n",
    "    \n",
    "        if jugador < numero_aleatorio:\n",
    "            intentos += 1\n",
    "            print(f\"sigue intentandolo \\n llevas {intentos} intentos \\n El numero que buscamos es mayor\")\n",
    "        elif jugador > numero_aleatorio:\n",
    "            intentos += 1\n",
    "            print(f\"sigue intentandolo \\n llevas {intentos} intentos \\n El numero que buscamos es menor\")\n",
    "        else:\n",
    "            print(f\"HAS GANADOOO! \\n Has utilizado {intentos} intentos\")\n",
    "\n"
   ]
  },
  {
   "cell_type": "markdown",
   "metadata": {},
   "source": [
    "Ejercicio 4: Juego de Adivinar la Palabra\n",
    "Elige una palabra secreta y ocúltala utilizando asteriscos, por ejemplo, \"secreto\" se muestra como \"*******\".\n",
    "Permite al usuario adivinar letras una por una.\n",
    "Si la letra adivinada está en la palabra secreta, muestra la palabra con las letras descubiertas y los asteriscos.\n",
    "Si la letra no está en la palabra secreta, resta una vida al jugador.\n",
    "El juego continúa hasta que el jugador adivine la palabra."
   ]
  },
  {
   "cell_type": "code",
   "execution_count": 52,
   "metadata": {},
   "outputs": [
    {
     "name": "stdout",
     "output_type": "stream",
     "text": [
      "h\n",
      "o\n",
      "l\n",
      "a\n",
      "_\n",
      "_\n",
      "_\n",
      "_\n",
      "h\n",
      "o\n",
      "l\n",
      "a\n",
      "h\n",
      "o\n",
      "l\n",
      "a\n"
     ]
    },
    {
     "ename": "KeyboardInterrupt",
     "evalue": "Interrupted by user",
     "output_type": "error",
     "traceback": [
      "\u001b[1;31m---------------------------------------------------------------------------\u001b[0m",
      "\u001b[1;31mKeyboardInterrupt\u001b[0m                         Traceback (most recent call last)",
      "Cell \u001b[1;32mIn[52], line 7\u001b[0m\n\u001b[0;32m      4\u001b[0m palabra_jugada \u001b[38;5;241m=\u001b[39m \u001b[38;5;124m\"\u001b[39m\u001b[38;5;124m\"\u001b[39m\n\u001b[0;32m      6\u001b[0m \u001b[38;5;28;01mwhile\u001b[39;00m palabra_secreta \u001b[38;5;241m!=\u001b[39m palabra_jugada:\n\u001b[1;32m----> 7\u001b[0m     jugador1 \u001b[38;5;241m=\u001b[39m \u001b[38;5;28;43minput\u001b[39;49m\u001b[43m(\u001b[49m\u001b[38;5;124;43m\"\u001b[39;49m\u001b[38;5;124;43mIntroducce una letra para comprobar que esta en la palabra secreta\u001b[39;49m\u001b[38;5;124;43m\"\u001b[39;49m\u001b[43m)\u001b[49m\n\u001b[0;32m      9\u001b[0m     \u001b[38;5;28;01mfor\u001b[39;00m element \u001b[38;5;129;01min\u001b[39;00m palabra_secreta:\n\u001b[0;32m     10\u001b[0m         \u001b[38;5;28;01mif\u001b[39;00m jugador1 \u001b[38;5;129;01min\u001b[39;00m palabra_secreta:\n",
      "File \u001b[1;32m~\\AppData\\Roaming\\Python\\Python312\\site-packages\\ipykernel\\kernelbase.py:1270\u001b[0m, in \u001b[0;36mKernel.raw_input\u001b[1;34m(self, prompt)\u001b[0m\n\u001b[0;32m   1268\u001b[0m     msg \u001b[38;5;241m=\u001b[39m \u001b[38;5;124m\"\u001b[39m\u001b[38;5;124mraw_input was called, but this frontend does not support input requests.\u001b[39m\u001b[38;5;124m\"\u001b[39m\n\u001b[0;32m   1269\u001b[0m     \u001b[38;5;28;01mraise\u001b[39;00m StdinNotImplementedError(msg)\n\u001b[1;32m-> 1270\u001b[0m \u001b[38;5;28;01mreturn\u001b[39;00m \u001b[38;5;28;43mself\u001b[39;49m\u001b[38;5;241;43m.\u001b[39;49m\u001b[43m_input_request\u001b[49m\u001b[43m(\u001b[49m\n\u001b[0;32m   1271\u001b[0m \u001b[43m    \u001b[49m\u001b[38;5;28;43mstr\u001b[39;49m\u001b[43m(\u001b[49m\u001b[43mprompt\u001b[49m\u001b[43m)\u001b[49m\u001b[43m,\u001b[49m\n\u001b[0;32m   1272\u001b[0m \u001b[43m    \u001b[49m\u001b[38;5;28;43mself\u001b[39;49m\u001b[38;5;241;43m.\u001b[39;49m\u001b[43m_parent_ident\u001b[49m\u001b[43m[\u001b[49m\u001b[38;5;124;43m\"\u001b[39;49m\u001b[38;5;124;43mshell\u001b[39;49m\u001b[38;5;124;43m\"\u001b[39;49m\u001b[43m]\u001b[49m\u001b[43m,\u001b[49m\n\u001b[0;32m   1273\u001b[0m \u001b[43m    \u001b[49m\u001b[38;5;28;43mself\u001b[39;49m\u001b[38;5;241;43m.\u001b[39;49m\u001b[43mget_parent\u001b[49m\u001b[43m(\u001b[49m\u001b[38;5;124;43m\"\u001b[39;49m\u001b[38;5;124;43mshell\u001b[39;49m\u001b[38;5;124;43m\"\u001b[39;49m\u001b[43m)\u001b[49m\u001b[43m,\u001b[49m\n\u001b[0;32m   1274\u001b[0m \u001b[43m    \u001b[49m\u001b[43mpassword\u001b[49m\u001b[38;5;241;43m=\u001b[39;49m\u001b[38;5;28;43;01mFalse\u001b[39;49;00m\u001b[43m,\u001b[49m\n\u001b[0;32m   1275\u001b[0m \u001b[43m\u001b[49m\u001b[43m)\u001b[49m\n",
      "File \u001b[1;32m~\\AppData\\Roaming\\Python\\Python312\\site-packages\\ipykernel\\kernelbase.py:1313\u001b[0m, in \u001b[0;36mKernel._input_request\u001b[1;34m(self, prompt, ident, parent, password)\u001b[0m\n\u001b[0;32m   1310\u001b[0m \u001b[38;5;28;01mexcept\u001b[39;00m \u001b[38;5;167;01mKeyboardInterrupt\u001b[39;00m:\n\u001b[0;32m   1311\u001b[0m     \u001b[38;5;66;03m# re-raise KeyboardInterrupt, to truncate traceback\u001b[39;00m\n\u001b[0;32m   1312\u001b[0m     msg \u001b[38;5;241m=\u001b[39m \u001b[38;5;124m\"\u001b[39m\u001b[38;5;124mInterrupted by user\u001b[39m\u001b[38;5;124m\"\u001b[39m\n\u001b[1;32m-> 1313\u001b[0m     \u001b[38;5;28;01mraise\u001b[39;00m \u001b[38;5;167;01mKeyboardInterrupt\u001b[39;00m(msg) \u001b[38;5;28;01mfrom\u001b[39;00m \u001b[38;5;28;01mNone\u001b[39;00m\n\u001b[0;32m   1314\u001b[0m \u001b[38;5;28;01mexcept\u001b[39;00m \u001b[38;5;167;01mException\u001b[39;00m:\n\u001b[0;32m   1315\u001b[0m     \u001b[38;5;28mself\u001b[39m\u001b[38;5;241m.\u001b[39mlog\u001b[38;5;241m.\u001b[39mwarning(\u001b[38;5;124m\"\u001b[39m\u001b[38;5;124mInvalid Message:\u001b[39m\u001b[38;5;124m\"\u001b[39m, exc_info\u001b[38;5;241m=\u001b[39m\u001b[38;5;28;01mTrue\u001b[39;00m)\n",
      "\u001b[1;31mKeyboardInterrupt\u001b[0m: Interrupted by user"
     ]
    }
   ],
   "source": [
    "palabra_secreta = input(\"Introducce una palabra para jugar\")\n",
    "vidas = 0\n",
    "falladas = []\n",
    "palabra_jugada = \"\"\n",
    "\n",
    "while palabra_secreta != palabra_jugada:\n",
    "    jugador1 = input(\"Introducce una letra para comprobar que esta en la palabra secreta\")\n",
    "\n",
    "    for element in palabra_secreta:\n",
    "        if jugador1 in palabra_secreta:\n",
    "            print(element)\n",
    "        else:\n",
    "            falladas.append(element)\n",
    "            print(\"_\")\n",
    "            print(f\"Has utilizado {vidas} vidas y has fallados las letras {}\")\n",
    "            falladas.append(element)\n",
    "            "
   ]
  },
  {
   "cell_type": "code",
   "execution_count": null,
   "metadata": {},
   "outputs": [],
   "source": []
  }
 ],
 "metadata": {
  "kernelspec": {
   "display_name": "Python 3",
   "language": "python",
   "name": "python3"
  },
  "language_info": {
   "codemirror_mode": {
    "name": "ipython",
    "version": 3
   },
   "file_extension": ".py",
   "mimetype": "text/x-python",
   "name": "python",
   "nbconvert_exporter": "python",
   "pygments_lexer": "ipython3",
   "version": "3.12.1"
  }
 },
 "nbformat": 4,
 "nbformat_minor": 2
}
